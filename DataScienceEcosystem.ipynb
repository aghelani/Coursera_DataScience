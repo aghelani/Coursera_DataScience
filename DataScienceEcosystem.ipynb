{
 "cells": [
  {
   "cell_type": "markdown",
   "id": "fe1aa7db",
   "metadata": {},
   "source": [
    "### Exercise 2: Create markdown cell with title of the notebook\n",
    "\n",
    "Create a markdown cell with the title Data Science Tools and Ecosystem using H1 style heading.\n",
    "Take a screenshot of the markdown cell and name it as 2-title.png"
   ]
  },
  {
   "cell_type": "markdown",
   "id": "bb9b7be2",
   "metadata": {},
   "source": [
    "# Data Science Tools and Ecosystem"
   ]
  },
  {
   "cell_type": "markdown",
   "id": "34832858",
   "metadata": {},
   "source": [
    "### Exercise 3 - Create a markdown cell for an introduction\n",
    "\n",
    "Write an introductory sentence about the notebook such as the follows:\n",
    "\n",
    "In this notebook, Data Science Tools and Ecosystem are summarized.\n",
    "Take a screenshot of the markdown cell and name it as 3-intro.png"
   ]
  },
  {
   "cell_type": "markdown",
   "id": "efba49d6",
   "metadata": {},
   "source": [
    "# In this notebook, Data Science Tools and Ecosystem are summarized."
   ]
  },
  {
   "cell_type": "markdown",
   "id": "024f3197",
   "metadata": {},
   "source": [
    "### Exercise 4 - Create a markdown cell to list data science languages\n",
    "\n",
    "Start the cell with an overview line such as:\n",
    "\n",
    "Some of the popular languages that Data Scientists use are:\n",
    "Then create an ordered list (i.e. numbered) listing 3 (or more) commonly used languages for data science.\n",
    "Take a screenshot of the markdown cell and name it as 4-dslanguages.png"
   ]
  },
  {
   "cell_type": "markdown",
   "id": "b776248c",
   "metadata": {},
   "source": [
    "# Some of the popular languages that Data Scientists use are:\n",
    "\n",
    "1. Python\n",
    "2. R\n",
    "3. JAVA"
   ]
  },
  {
   "cell_type": "markdown",
   "id": "042c4687",
   "metadata": {},
   "source": [
    "### Exercise 5 - Create a markdown cell to list data science libraries\n",
    "\n",
    "Add an overview line to the cell like:\n",
    "\n",
    "Some of the commonly used libraries used by Data Scientists include:\n",
    "Below this line add an ordered list listing 3 (or more) commonly used libraries in data science.\n",
    "Take a screenshot of the markdown cell and name it as 5-dslibraries.png"
   ]
  },
  {
   "cell_type": "markdown",
   "id": "2faa61a1",
   "metadata": {},
   "source": [
    "# Some of the commonly used libraries used by Data Scientists include:\n",
    "\n",
    "1. Numpy\n",
    "2. Panda\n",
    "3. Scikit-learn"
   ]
  },
  {
   "cell_type": "markdown",
   "id": "8c062240",
   "metadata": {},
   "source": [
    "### Exercise 6 - Create a markdown cell with a table of Data Science tools\n",
    "\n",
    "Create a single column table in this cell with the first row containing the header Data Science Tools. The subsequent three rows in the table should indicate three development environment open source tools used in data science.\n",
    "\n",
    "Take a screenshot of the markdown cell and name it as 6-dstools.png"
   ]
  },
  {
   "cell_type": "markdown",
   "id": "449200c8",
   "metadata": {},
   "source": [
    "| Data Science Tools |\n",
    "|--------------------|\n",
    "| Jupyter Notebook |\n",
    "| VS Code |\n",
    "| RStudio |"
   ]
  },
  {
   "cell_type": "markdown",
   "id": "9846ad24",
   "metadata": {},
   "source": [
    "### Exercise 7 - Create a markdown cell introducing arithmetic expression examples\n",
    "\n",
    "Add a line in this cell with H3 style heading with text like:\n",
    "\n",
    "Below are a few examples of evaluating arithmetic expressions in Python.\n",
    "Take a screenshot of the markdown cell and name it as 7-introarithmetic.png"
   ]
  },
  {
   "cell_type": "markdown",
   "id": "d5ae8733",
   "metadata": {},
   "source": [
    "### Below are a few examples of evaluating arithmetic expressions in Python"
   ]
  },
  {
   "cell_type": "markdown",
   "id": "1a671e89",
   "metadata": {},
   "source": [
    "### Exercise 8 - Create a code cell to multiply and add numbers\n",
    "\n",
    "In this code cell evaluate the expression (3*4)+5.\n",
    "Insert a comment line before the expression to explain the operation e.g.  This a simple arithmetic expression to mutiply then add integers.\n",
    "Then execute the cell to ensure the expression returns the expected output of 17.\n",
    "Take a screenshot of the code cell with output and name it as 8-multiplyandaddintegers.png"
   ]
  },
  {
   "cell_type": "markdown",
   "id": "a434975f",
   "metadata": {},
   "source": [
    "### This a simple arithmetic expression to mutiply then add integers"
   ]
  },
  {
   "cell_type": "code",
   "execution_count": 7,
   "id": "bfc64548",
   "metadata": {},
   "outputs": [
    {
     "data": {
      "text/plain": [
       "17"
      ]
     },
     "execution_count": 7,
     "metadata": {},
     "output_type": "execute_result"
    }
   ],
   "source": [
    "(3*4)+5"
   ]
  },
  {
   "cell_type": "markdown",
   "id": "44a63ffd",
   "metadata": {},
   "source": [
    "### Exercise 9 - Create a code cell to convert minutes to hours\n",
    "\n",
    "In this code cell write an expression that converts 200 minutes into hours.\n",
    "Insert a comment line before the expression to explain the operation e.g.  This will convert 200 minutes to hours by diving by 60.\n",
    "Run the cell to evaluate the expression.\n",
    "Take a screenshot of the code cell with output and name it as 9-hourstominutes.png"
   ]
  },
  {
   "cell_type": "markdown",
   "id": "09e24d3a",
   "metadata": {},
   "source": [
    "### This will convert 200 minutes to hours by diving by 60"
   ]
  },
  {
   "cell_type": "code",
   "execution_count": 11,
   "id": "38e0bf3c",
   "metadata": {},
   "outputs": [
    {
     "data": {
      "text/plain": [
       "3.3333333333333335"
      ]
     },
     "execution_count": 11,
     "metadata": {},
     "output_type": "execute_result"
    }
   ],
   "source": [
    "200/60"
   ]
  },
  {
   "cell_type": "markdown",
   "id": "416b1af0",
   "metadata": {},
   "source": [
    "## Exercise 10 - Insert a markdown cell to list Objectives\n",
    "\n",
    "Below the introduction cell created in Exercise 3, insert a new markdown cell to list the objectives that this notebook covered (i.e. some of the key takeaways from the course). In this new cell start with an introductory line titled: Objectives: in bold font. Then using an unordered list (bullets) indicate 3 to 5 items covered in this notebook, such as List popular languages for Data Science."
   ]
  },
  {
   "cell_type": "markdown",
   "id": "2fdfeeb2",
   "metadata": {},
   "source": [
    "### In this notebook, Data Science Tools and Ecosystem are summarized. \n",
    "\n",
    "***Objectives:***\n",
    "\n",
    "List popular languages for Data Science\n",
    "\n",
    "- Java\n",
    "- C++\n",
    "- Python\n",
    "- JavaScript\n",
    "- R"
   ]
  },
  {
   "cell_type": "markdown",
   "id": "fc828991",
   "metadata": {},
   "source": [
    "### Exercise 11 - Create a markdown cell to indicate the Author's name\n",
    "\n",
    "In this markdown cell markdown cell include the following text Author in H2 style heading. Include your name as regular text below the word Author.\n",
    "Take a screenshot of the markdown cell and name it as 11-authordetails.png"
   ]
  },
  {
   "cell_type": "markdown",
   "id": "d3383537",
   "metadata": {},
   "source": [
    "## Author\n",
    "Akeel Ghelani"
   ]
  },
  {
   "cell_type": "markdown",
   "id": "5daf2ee0",
   "metadata": {},
   "source": [
    "### Exercise 12 - Share your notebook through GitHub\n",
    "\n",
    "Upload your notebook to a public respository on GitHub.\n",
    "\n",
    "Note : Please keep the GitHub repo link of the notebook handy.\n",
    "You will need to submit this link as a part of the assignment evaluation."
   ]
  },
  {
   "cell_type": "markdown",
   "id": "23fc6a84",
   "metadata": {},
   "source": [
    "### https://github.com/aghelani/Coursera_DataScience.git"
   ]
  },
  {
   "cell_type": "code",
   "execution_count": null,
   "id": "4fcc2919",
   "metadata": {},
   "outputs": [],
   "source": []
  }
 ],
 "metadata": {
  "kernelspec": {
   "display_name": "Python 3 (ipykernel)",
   "language": "python",
   "name": "python3"
  },
  "language_info": {
   "codemirror_mode": {
    "name": "ipython",
    "version": 3
   },
   "file_extension": ".py",
   "mimetype": "text/x-python",
   "name": "python",
   "nbconvert_exporter": "python",
   "pygments_lexer": "ipython3",
   "version": "3.10.9"
  }
 },
 "nbformat": 4,
 "nbformat_minor": 5
}
